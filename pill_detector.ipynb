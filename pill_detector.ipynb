{
 "cells": [
  {
   "cell_type": "markdown",
   "id": "ff7e44e5-8716-4a21-90db-1a7f01fc28e9",
   "metadata": {},
   "source": [
    "# Pill Detection\n",
    "An example of using LandingAI's LandingLens. The project begins with 18 images of different pills, all labeled into 3 different types of pills: b12 vitamins, antidepressants, and painkillers. The goal of this example is to use and label a small set of images, train the model, and use a new image to detect the correct pills. "
   ]
  },
  {
   "cell_type": "code",
   "execution_count": null,
   "id": "de6c9e07-b8e4-41e4-acd4-3f59276c9328",
   "metadata": {},
   "outputs": [],
   "source": [
    "from PIL import Image, ImageDraw, ImageFont\n",
    "import matplotlib.pyplot as plt\n",
    "from landingai.predict import Predictor\n",
    "from landingai.pipeline.image_source import Frame\n",
    "from landingai.visualize import overlay_predictions, overlay_bboxes\n",
    "\n",
    "# Enter your API Key\n",
    "endpoint_id = \"8d1eb3ea-f05e-4b5c-bffb-8e9882c95045\"\n",
    "api_key = \"YOUR-API-KEY\"\n",
    "\n",
    "# Initialize predictor \n",
    "predictor = Predictor(endpoint_id, api_key=api_key)\n",
    "\n",
    "# Load your image\n",
    "image_path = \"Inference Dataset /IMG_4402.jpeg\"\n",
    "image = Image.open(image_path)\n",
    "predictions = predictor.predict(image)\n",
    "\n",
    "for prediction in predictions: \n",
    "     display(prediction)"
   ]
  },
  {
   "cell_type": "code",
   "execution_count": null,
   "id": "c57548d0",
   "metadata": {},
   "outputs": [],
   "source": [
    "overlay_predictions(predictions, image, options=None)"
   ]
  }
 ],
 "metadata": {
  "kernelspec": {
   "display_name": "Python 3",
   "language": "python",
   "name": "python3"
  },
  "language_info": {
   "codemirror_mode": {
    "name": "ipython",
    "version": 3
   },
   "file_extension": ".py",
   "mimetype": "text/x-python",
   "name": "python",
   "nbconvert_exporter": "python",
   "pygments_lexer": "ipython3",
   "version": "3.13.0"
  }
 },
 "nbformat": 4,
 "nbformat_minor": 5
}
